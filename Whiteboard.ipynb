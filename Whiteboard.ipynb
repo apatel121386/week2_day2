{
 "cells": [
  {
   "cell_type": "markdown",
   "id": "cdf6da24",
   "metadata": {},
   "source": [
    "It's the academic year's end, fateful moment of your school report. The averages must be calculated. All the students \n",
    "come to you and entreat you to calculate their average for them. Easy ! You just need to write a script.\n",
    "Return the average of the given list rounded down to its nearest integer.\n",
    "The list will never be empty.\n",
    "shohaGrades = [8,5,6,7,7,7,9,8]\n",
    "brianGrades = [10,10,10,9,10,10,10,9]\n",
    "nicoleGrades = [9,8,9,8,8,9,7,9,8]\n",
    "findAvg(shohaGrades) # should return 7\n",
    "findAvg(brianGrades) # should return 9\n",
    "findAvg(nicoleGrades) # should return 8\n",
    "\n"
   ]
  },
  {
   "cell_type": "code",
   "execution_count": 13,
   "id": "5f6fc497",
   "metadata": {},
   "outputs": [],
   "source": [
    "def findavg(lst):\n",
    "    return sum(lst) // len(lst)\n",
    "shohaGrades = [8,5,6,7,7,7,9,8]\n",
    "brianGrades = [10,10,10,9,10,10,10,9]\n",
    "nicoleGrades = [9,8,9,8,8,9,7,9,8]\n"
   ]
  },
  {
   "cell_type": "code",
   "execution_count": 15,
   "id": "80bd9cec",
   "metadata": {},
   "outputs": [
    {
     "data": {
      "text/plain": [
       "2"
      ]
     },
     "execution_count": 15,
     "metadata": {},
     "output_type": "execute_result"
    }
   ],
   "source": [
    "findavg([2,2])"
   ]
  },
  {
   "cell_type": "code",
   "execution_count": 23,
   "id": "88bd5eaa",
   "metadata": {},
   "outputs": [
    {
     "name": "stdout",
     "output_type": "stream",
     "text": [
      "22\n"
     ]
    }
   ],
   "source": [
    "a = [4, 1, 5, 10, 7, 9, 8]\n",
    "b = [4.0, 6.6, 2]\n",
    "\n",
    "def even(lst):\n",
    "    new_lst = []\n",
    "    for num in lst:\n",
    "        if(num %2 == 0):\n",
    "            new_lst.append(num)\n",
    "            \n",
    "    return(sum(new_lst))    \n",
    "    \n",
    "    \n",
    "print(even(a))\n"
   ]
  },
  {
   "cell_type": "code",
   "execution_count": null,
   "id": "7317b24c",
   "metadata": {},
   "outputs": [],
   "source": []
  }
 ],
 "metadata": {
  "kernelspec": {
   "display_name": "Python 3",
   "language": "python",
   "name": "python3"
  },
  "language_info": {
   "codemirror_mode": {
    "name": "ipython",
    "version": 3
   },
   "file_extension": ".py",
   "mimetype": "text/x-python",
   "name": "python",
   "nbconvert_exporter": "python",
   "pygments_lexer": "ipython3",
   "version": "3.8.8"
  }
 },
 "nbformat": 4,
 "nbformat_minor": 5
}
